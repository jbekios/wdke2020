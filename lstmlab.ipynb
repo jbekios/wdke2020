{
  "nbformat": 4,
  "nbformat_minor": 0,
  "metadata": {
    "colab": {
      "name": "lstmlab.ipynb",
      "provenance": [],
      "collapsed_sections": [],
      "toc_visible": true
    },
    "kernelspec": {
      "name": "python3",
      "display_name": "Python 3"
    },
    "accelerator": "GPU"
  },
  "cells": [
    {
      "cell_type": "markdown",
      "metadata": {
        "id": "MdpTzX4opcsg",
        "colab_type": "text"
      },
      "source": [
        "# IV Workshop on Data and Knowledge Engineering - INFONOR 2020\n",
        "## **Título:** Redes neuronales recurrentes de corto y largo plazo\n",
        "\n",
        "\n",
        "**Expositor:** Dr. Juan Bekios Calfa\n",
        "**Ayudante:** Sr. Ricardo Pizarro\n",
        "\n",
        "\n",
        "<pre>Universidad Católica del Norte\n",
        "Departamento de Ingeniería de Sistemas y Computación\n",
        "Núcleo de Investigación en Inteligencia Artificial y Data Science\n",
        "</pre>\n",
        "\n",
        "Referencia:\n",
        "\n",
        "https://machinelearningmastery.com/time-series-prediction-lstm-recurrent-neural-networks-python-keras/\n",
        "\n",
        "##1. Obtener base de datos\n",
        "\n",
        "Obtenemos la base de datos sugerida en la referencia."
      ]
    },
    {
      "cell_type": "code",
      "metadata": {
        "id": "J_4ts-lupX4W",
        "colab_type": "code",
        "colab": {}
      },
      "source": [
        "!wget https://raw.githubusercontent.com/jbrownlee/Datasets/master/airline-passengers.csv"
      ],
      "execution_count": null,
      "outputs": []
    },
    {
      "cell_type": "markdown",
      "metadata": {
        "id": "M9S0lwR6REKW",
        "colab_type": "text"
      },
      "source": [
        "## 2. Cargamos las librerías necesarias para resolver el problema"
      ]
    },
    {
      "cell_type": "code",
      "metadata": {
        "id": "hG4h29npwRKh",
        "colab_type": "code",
        "colab": {}
      },
      "source": [
        "import numpy as np\n",
        "import matplotlib.pyplot as plt\n",
        "import pandas as pd\n",
        "import torch\n",
        "import torch.nn as nn\n",
        "from sklearn.preprocessing import MinMaxScaler"
      ],
      "execution_count": null,
      "outputs": []
    },
    {
      "cell_type": "markdown",
      "metadata": {
        "id": "d311sutAwaZ_",
        "colab_type": "text"
      },
      "source": [
        "## 3. Revisamos los datos de pasajeros\n",
        "\n",
        "Cargamos los datos desde el archivo ``.csv`` y listamos los primeros cinco elementos.\n",
        "\n"
      ]
    },
    {
      "cell_type": "code",
      "metadata": {
        "id": "t6xTMPn6wkdT",
        "colab_type": "code",
        "colab": {}
      },
      "source": [
        "training_set = pd.read_csv('airline-passengers.csv')\n",
        "\n",
        "# Listar los 'n' primeros elementos\n",
        "training_set.head()"
      ],
      "execution_count": null,
      "outputs": []
    },
    {
      "cell_type": "markdown",
      "metadata": {
        "id": "EHYpPiYwS-WX",
        "colab_type": "text"
      },
      "source": [
        "Visualizamos los datos para ver su comportamiento en el tiempo"
      ]
    },
    {
      "cell_type": "code",
      "metadata": {
        "id": "ZYc1vCiewVuV",
        "colab_type": "code",
        "colab": {}
      },
      "source": [
        "training_set = training_set.iloc[:,1:2].values\n",
        "plt.plot(training_set)\n",
        "plt.suptitle('Cantidad de pasajeros')\n",
        "\n",
        "plt.show()"
      ],
      "execution_count": null,
      "outputs": []
    },
    {
      "cell_type": "markdown",
      "metadata": {
        "id": "184k2-2zxj6K",
        "colab_type": "text"
      },
      "source": [
        "Creamos una ventana deslizante, dada una secuencia de tamaño n se desea predecir el siguiente punto"
      ]
    },
    {
      "cell_type": "code",
      "metadata": {
        "id": "zW0HnSJEwirP",
        "colab_type": "code",
        "colab": {}
      },
      "source": [
        "def sliding_windows(data, seq_length):\n",
        "    x = []\n",
        "    y = []\n",
        "\n",
        "    for i in range(len(data)-seq_length-1):\n",
        "        _x = data[i:(i+seq_length)]\n",
        "        _y = data[i+seq_length]\n",
        "        x.append(_x)\n",
        "        y.append(_y)\n",
        "\n",
        "    return np.array(x),np.array(y)\n",
        "#escalamos los datos\n",
        "sc = MinMaxScaler()\n",
        "training_data = sc.fit_transform(training_set)\n",
        "\n",
        "seq_length = 4\n",
        "x, y = sliding_windows(training_data, seq_length)"
      ],
      "execution_count": null,
      "outputs": []
    },
    {
      "cell_type": "markdown",
      "metadata": {
        "id": "H1OvjDAa07Qd",
        "colab_type": "text"
      },
      "source": [
        "## 4. Seleccionamos los datos de entrenamiento y validación"
      ]
    },
    {
      "cell_type": "code",
      "metadata": {
        "id": "uw8vRTzAxcW4",
        "colab_type": "code",
        "colab": {}
      },
      "source": [
        "device = torch.device('cuda:0' if torch.cuda.is_available() else 'cpu')\n",
        "\n",
        "train_size = int(len(y) * 0.67)\n",
        "val_size = len(y) - train_size\n",
        "\n",
        "x_train = torch.tensor(x[0:train_size],device=device)\n",
        "y_train = torch.tensor(y[0:train_size],device=device)\n",
        "x_val = torch.tensor(x[val_size:],device=device)\n",
        "y_val = torch.tensor(y[val_size:],device=device)\n",
        "\n",
        "x = torch.tensor(x,device=device)\n",
        "y = torch.tensor(y,device=device)"
      ],
      "execution_count": null,
      "outputs": []
    },
    {
      "cell_type": "markdown",
      "metadata": {
        "id": "VwKolpVq1LeI",
        "colab_type": "text"
      },
      "source": [
        "## 5. Modelo\n",
        "\n",
        "Implementamos el modelo neuronal para una red LSTM."
      ]
    },
    {
      "cell_type": "code",
      "metadata": {
        "id": "9iXndWOj0Y3u",
        "colab_type": "code",
        "colab": {}
      },
      "source": [
        "\n",
        "\n",
        "class LSTM(nn.Module):\n",
        "    def __init__(self, num_classes, input_size, hidden_size, num_layers):\n",
        "        super(LSTM, self).__init__()\n",
        "        self.num_classes = num_classes\n",
        "        self.num_layers = num_layers\n",
        "        self.input_size = input_size\n",
        "        self.hidden_size = hidden_size\n",
        "        self.seq_length = seq_length\n",
        "        \n",
        "        self.lstm = nn.LSTM(input_size=input_size, hidden_size=hidden_size,\n",
        "                            num_layers=num_layers, batch_first=True)\n",
        "        \n",
        "        self.fc = nn.Linear(hidden_size, num_classes)\n",
        "\n",
        "    def forward(self, x):\n",
        "        # Propagate input through LSTM\n",
        "        ula, (h_n, _) = self.lstm(x)\n",
        "        \"\"\"\n",
        "        output of shape (batch,seq_len, num_directions * hidden_size): \n",
        "          tensor containing the output features (h_t) from the last layer of the LSTM, for each t.\n",
        "        \n",
        "        h_n of shape (batch, num_layers * num_directions, hidden_size): tensor containing the hidden state for t = seq_len.\n",
        "\n",
        "        Like output, the layers can be separated using h_n.view(batch,num_layers, num_directions, hidden_size) and similarly for c_n.\n",
        "\n",
        "        c_n of shape (batch, num_layers * num_directions, hidden_size): tensor containing the cell state for t = seq_len.\n",
        "\n",
        "\n",
        "        \"\"\"\n",
        "        h_n = h_n.view(-1, self.hidden_size)\n",
        "        \n",
        "        out = self.fc(h_n)\n",
        "        \n",
        "        return out\n",
        "\n"
      ],
      "execution_count": null,
      "outputs": []
    },
    {
      "cell_type": "markdown",
      "metadata": {
        "id": "dKyMb5X_Trm5",
        "colab_type": "text"
      },
      "source": [
        "## 6. Entrenamos el modelo"
      ]
    },
    {
      "cell_type": "code",
      "metadata": {
        "id": "VeGyXxOa1XRF",
        "colab_type": "code",
        "colab": {}
      },
      "source": [
        "num_epochs = 2000\n",
        "learning_rate = 0.01\n",
        "\n",
        "input_size = 1\n",
        "hidden_size = 2\n",
        "num_layers = 1\n",
        "\n",
        "num_classes = 1\n",
        "\n",
        "#por defecto se crea una lstm con precision de 16bit, en pytorch 1.6.0 hay un bug que no permite el uso de 16bit con lstm\n",
        "#pasamos la red a doble precision\n",
        "lstm = LSTM(num_classes, input_size, hidden_size, num_layers).to(device).double()\n",
        "\n",
        "\n",
        "criterion = torch.nn.MSELoss() \n",
        "optimizer = torch.optim.Adam(lstm.parameters(), lr=learning_rate)\n",
        "\n",
        "# Entrenamiento\n",
        "for epoch in range(num_epochs):\n",
        "    outputs = lstm(x_train)\n",
        "    optimizer.zero_grad()\n",
        "    loss = criterion(outputs, y_train)\n",
        "    loss.backward()\n",
        "    optimizer.step()\n",
        "    if epoch % 100 == 0:\n",
        "      print(\"Epoch: %d, loss: %1.5f\" % (epoch, loss.item()))"
      ],
      "execution_count": null,
      "outputs": []
    },
    {
      "cell_type": "markdown",
      "metadata": {
        "id": "aVLWoOs93k_C",
        "colab_type": "text"
      },
      "source": [
        "## 7. Evaluamos los resultados"
      ]
    },
    {
      "cell_type": "code",
      "metadata": {
        "id": "bpUbeqv31gRT",
        "colab_type": "code",
        "colab": {}
      },
      "source": [
        "lstm.eval()\n",
        "train_predict = lstm(x)\n",
        "\n",
        "data_predict = train_predict.cpu().data.numpy()\n",
        "dataY_plot = y.cpu().data.numpy()\n",
        "\n",
        "data_predict = sc.inverse_transform(data_predict)\n",
        "dataY_plot = sc.inverse_transform(dataY_plot)\n",
        "#Dibujamos una linea roja que nos dira cuando comienza el set de validacion\n",
        "plt.axvline(x=train_size, c='r', linestyle='--')\n",
        "\n",
        "plt.plot(dataY_plot)\n",
        "plt.plot(data_predict)\n",
        "plt.suptitle('Prediccion de la serie de tiempo')\n",
        "plt.show()"
      ],
      "execution_count": null,
      "outputs": []
    }
  ]
}